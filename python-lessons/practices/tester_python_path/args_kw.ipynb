{
 "cells": [
  {
   "cell_type": "code",
   "execution_count": 6,
   "metadata": {},
   "outputs": [
    {
     "name": "stdout",
     "output_type": "stream",
     "text": [
      "this is f_arg F\n",
      "this is from args a\n",
      "this is from args b\n",
      "this is from args c\n",
      "arg1 1\n",
      "arg2 2\n",
      "arg3 3\n"
     ]
    }
   ],
   "source": [
    "def test_list_args(f_arg,*args):\n",
    "    print(\"this is f_arg\",f_arg)\n",
    "    for arg in args:\n",
    "        print(\"this is from args\",arg)\n",
    "\n",
    "test_list_args(\"F\",\"a\",\"b\",\"c\")\n"
   ]
  },
  {
   "cell_type": "markdown",
   "metadata": {},
   "source": [
    "## *args 使用\n",
    "\n",
    "- 可变参数，参数长度可变\n",
    "- 参数根据顺序和位置确定"
   ]
  },
  {
   "cell_type": "code",
   "execution_count": null,
   "metadata": {},
   "outputs": [],
   "source": [
    "## **kwargs 使用\n",
    "\n",
    "- 字典类型 dict,key=value\n",
    "- 通过key来确定值"
   ]
  },
  {
   "cell_type": "code",
   "execution_count": 4,
   "metadata": {},
   "outputs": [
    {
     "name": "stdout",
     "output_type": "stream",
     "text": [
      "<class 'dict'>\n",
      "{0}={1} name test\n",
      "{0}={1} value value\n"
     ]
    }
   ],
   "source": [
    "def kwargs_usage(**kwargs):\n",
    "    print(type(kwargs))\n",
    "    for key,value in kwargs.items():\n",
    "        print(\"{0}={1}\",key,value)\n",
    "\n",
    "kwargs_usage(name=\"test\",value=\"value\") ## auto convert to dict\n",
    "# kwargs_usage({\"name\":\"name_value\",\"key\":\"value\"}) ## error,but support"
   ]
  },
  {
   "cell_type": "markdown",
   "metadata": {},
   "source": [
    "## 使用*args,**kwargs 调用函数\n",
    "\n",
    "- *args 根据位置匹配参数\n",
    "- **kwargs 根据名字(key)匹配参数\n",
    "- 如果同一个函数三种类型都有，如何处理？\n",
    "  * 自动拆包\n",
    "  * 名字匹配\n",
    "  * 类型匹配\n",
    "  * 剩余的都给**kwags"
   ]
  },
  {
   "cell_type": "code",
   "execution_count": 7,
   "metadata": {},
   "outputs": [
    {
     "name": "stdout",
     "output_type": "stream",
     "text": [
      "arg1 1\n",
      "arg2 2\n",
      "arg3 3\n",
      "arg1 a\n",
      "arg2 b\n",
      "arg3 c\n"
     ]
    }
   ],
   "source": [
    "def args_usage(arg1,arg2,arg3):\n",
    "    print(\"arg1\",arg1)\n",
    "    print(\"arg2\",arg2)\n",
    "    print(\"arg3\",arg3)\n",
    "args = [1,2,3]\n",
    "args_usage(*args)\n",
    "kwargs={\"arg1\":\"a\",\"arg2\":\"b\",\"arg3\":\"c\"}\n",
    "args_usage(**kwargs)"
   ]
  },
  {
   "cell_type": "code",
   "execution_count": 8,
   "metadata": {},
   "outputs": [
    {
     "name": "stdout",
     "output_type": "stream",
     "text": [
      "arg1 a\n",
      "arg2 ()\n",
      "arg3 {'arg2': 'b', 'arg3': 'c'}\n"
     ]
    }
   ],
   "source": [
    "def args_usage_all(arg1,*arg2,**arg3):\n",
    "    print(\"arg1\",arg1)\n",
    "    print(\"arg2\",arg2)\n",
    "    print(\"arg3\",arg3)\n",
    "kwargs={\"arg1\":\"a\",\"arg2\":\"b\",\"arg3\":\"c\"}\n",
    "args_usage_all(**kwargs)"
   ]
  },
  {
   "cell_type": "code",
   "execution_count": null,
   "metadata": {},
   "outputs": [],
   "source": [
    "# monkey patch\n"
   ]
  }
 ],
 "metadata": {
  "kernelspec": {
   "display_name": "Python 3",
   "language": "python",
   "name": "python3"
  },
  "language_info": {
   "codemirror_mode": {
    "name": "ipython",
    "version": 3
   },
   "file_extension": ".py",
   "mimetype": "text/x-python",
   "name": "python",
   "nbconvert_exporter": "python",
   "pygments_lexer": "ipython3",
   "version": "3.6.5"
  }
 },
 "nbformat": 4,
 "nbformat_minor": 2
}
