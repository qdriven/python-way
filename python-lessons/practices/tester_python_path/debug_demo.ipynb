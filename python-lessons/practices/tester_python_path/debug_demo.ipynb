{
 "cells": [
  {
   "cell_type": "code",
   "execution_count": 4,
   "metadata": {},
   "outputs": [
    {
     "name": "stdout",
     "output_type": "stream",
     "text": [
      "> <ipython-input-4-2b13ad540446>(4)make_trace()\n",
      "-> return \"debugging\"\n",
      "(Pdb) c\n",
      "debugging\n"
     ]
    }
   ],
   "source": [
    "import pdb\n",
    "def make_trace():\n",
    "    pdb.set_trace()\n",
    "    return \"debugging\"\n",
    "\n",
    "print(make_trace())"
   ]
  },
  {
   "cell_type": "markdown",
   "metadata": {},
   "source": [
    "## PDB debugging\n",
    "\n",
    "```python\n",
    "pdb.set_trace()\n",
    "```\n",
    "\n",
    "command list:\n",
    "\n",
    "- c: continue\n",
    "- w: execution context\n",
    "- a: arguments list\n",
    "- s: step debug\n",
    "- n: execute to next line"
   ]
  },
  {
   "cell_type": "code",
   "execution_count": null,
   "metadata": {},
   "outputs": [],
   "source": []
  }
 ],
 "metadata": {
  "kernelspec": {
   "display_name": "Python 3",
   "language": "python",
   "name": "python3"
  },
  "language_info": {
   "codemirror_mode": {
    "name": "ipython",
    "version": 3
   },
   "file_extension": ".py",
   "mimetype": "text/x-python",
   "name": "python",
   "nbconvert_exporter": "python",
   "pygments_lexer": "ipython3",
   "version": "3.6.5"
  }
 },
 "nbformat": 4,
 "nbformat_minor": 2
}
