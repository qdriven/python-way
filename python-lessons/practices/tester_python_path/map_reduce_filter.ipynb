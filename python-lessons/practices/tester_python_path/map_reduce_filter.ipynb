{
 "cells": [
  {
   "cell_type": "markdown",
   "metadata": {},
   "source": [
    "## Map,Reduce,Filter\n",
    "\n",
    "函数式编程\n",
    "\n",
    "- map\n",
    "\n",
    "```python\n",
    "map(function_to_apply,list_of_inputs)\n",
    "```\n",
    "\n",
    "- Filter\n",
    "\n",
    "```python\n",
    "filter(function_to_apply,list_of_inputs)\n",
    "```\n",
    "\n",
    "- reduce\n",
    "\n",
    "```python\n",
    "reduce(function_to_apply,list_of_inputs)\n",
    "```"
   ]
  },
  {
   "cell_type": "code",
   "execution_count": 4,
   "metadata": {},
   "outputs": [
    {
     "name": "stdout",
     "output_type": "stream",
     "text": [
      "[1, 4, 9, 16, 25]\n",
      "[0, 0]\n",
      "[1, 2]\n",
      "[4, 4]\n",
      "[9, 6]\n",
      "[16, 8]\n"
     ]
    }
   ],
   "source": [
    "items = [1,2,3,4,5]\n",
    "squared = []\n",
    "for i in items:\n",
    "    squared.append(i**2)\n",
    "squared =[]\n",
    "squared=list(map(lambda x:x**2,items))\n",
    "print(squared)\n",
    "\n",
    "def multipy(x):\n",
    "    return x*x\n",
    "def double(x):\n",
    "    return 2*x\n",
    "for i in range(5):\n",
    "    val = map(lambda x:x(i),[multipy,double])\n",
    "    print(list(val))"
   ]
  },
  {
   "cell_type": "code",
   "execution_count": 5,
   "metadata": {},
   "outputs": [
    {
     "name": "stdout",
     "output_type": "stream",
     "text": [
      "[-5]\n"
     ]
    }
   ],
   "source": [
    "number_list = [-5,55]\n",
    "less_than_zero = filter(lambda x:x<0,number_list)\n",
    "print(list(less_than_zero))"
   ]
  },
  {
   "cell_type": "code",
   "execution_count": 6,
   "metadata": {},
   "outputs": [
    {
     "name": "stdout",
     "output_type": "stream",
     "text": [
      "24\n"
     ]
    }
   ],
   "source": [
    "# reduce\n",
    "\n",
    "from functools import reduce\n",
    "product = reduce((lambda x,y:x*y),[1,2,3,4])\n",
    "print(product)"
   ]
  },
  {
   "cell_type": "markdown",
   "metadata": {},
   "source": [
    "## Set \n",
    "\n",
    "- no duplicated"
   ]
  },
  {
   "cell_type": "code",
   "execution_count": 7,
   "metadata": {},
   "outputs": [
    {
     "name": "stdout",
     "output_type": "stream",
     "text": [
      "{'a'}\n"
     ]
    }
   ],
   "source": [
    "some_list=[\"a\",\"b\",\"c\",\"a\",\"d\"]\n",
    "duplicates = set([x for x in some_list if some_list.count(x) >1])\n",
    "print(duplicates)\n",
    "\n",
    "# intersection\n",
    "# set1.insersection(set2)\n",
    "# set1.difference(set2)"
   ]
  },
  {
   "cell_type": "code",
   "execution_count": null,
   "metadata": {},
   "outputs": [],
   "source": []
  }
 ],
 "metadata": {
  "kernelspec": {
   "display_name": "Python 3",
   "language": "python",
   "name": "python3"
  },
  "language_info": {
   "codemirror_mode": {
    "name": "ipython",
    "version": 3
   },
   "file_extension": ".py",
   "mimetype": "text/x-python",
   "name": "python",
   "nbconvert_exporter": "python",
   "pygments_lexer": "ipython3",
   "version": "3.6.5"
  }
 },
 "nbformat": 4,
 "nbformat_minor": 2
}
