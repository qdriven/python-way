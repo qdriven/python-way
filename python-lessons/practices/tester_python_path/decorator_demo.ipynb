{
 "cells": [
  {
   "cell_type": "markdown",
   "metadata": {},
   "source": [
    "## Python Decorator\n",
    "\n",
    "- 一切都是对象\n",
    "- 函数中定义函数\n",
    "- 函数返回函数\n",
    "- 函数作为另外一个函数返回"
   ]
  },
  {
   "cell_type": "code",
   "execution_count": 6,
   "metadata": {},
   "outputs": [
    {
     "name": "stdout",
     "output_type": "stream",
     "text": [
      "hi world\n",
      "hi greet\n",
      "hi world\n"
     ]
    }
   ],
   "source": [
    "def hi(name=\"world\"):\n",
    "    return \"hi %s\"%(name)\n",
    "\n",
    "print(hi())\n",
    "greet = hi\n",
    "print(greet(\"greet\"))\n",
    "del hi\n",
    "# print(hi()) ## error\n",
    "print(greet())"
   ]
  },
  {
   "cell_type": "code",
   "execution_count": 12,
   "metadata": {},
   "outputs": [
    {
     "name": "stdout",
     "output_type": "stream",
     "text": [
      "hi world\n",
      "it is greet\n",
      "welcome\n",
      "end of function hi\n"
     ]
    },
    {
     "ename": "NameError",
     "evalue": "name 'nested_greet' is not defined",
     "output_type": "error",
     "traceback": [
      "\u001b[0;31m---------------------------------------------------------------------------\u001b[0m",
      "\u001b[0;31mNameError\u001b[0m                                 Traceback (most recent call last)",
      "\u001b[0;32m<ipython-input-12-2e90ac79c81f>\u001b[0m in \u001b[0;36m<module>\u001b[0;34m()\u001b[0m\n\u001b[1;32m     10\u001b[0m \u001b[0;34m\u001b[0m\u001b[0m\n\u001b[1;32m     11\u001b[0m \u001b[0mhi_with_nested_func\u001b[0m\u001b[0;34m(\u001b[0m\u001b[0;34m)\u001b[0m\u001b[0;34m\u001b[0m\u001b[0m\n\u001b[0;32m---> 12\u001b[0;31m \u001b[0mnested_greet\u001b[0m\u001b[0;34m(\u001b[0m\u001b[0;34m)\u001b[0m\u001b[0;34m\u001b[0m\u001b[0m\n\u001b[0m",
      "\u001b[0;31mNameError\u001b[0m: name 'nested_greet' is not defined"
     ]
    }
   ],
   "source": [
    "def hi_with_nested_func(name=\"world\"):\n",
    "    print(\"hi %s\"%name)\n",
    "    def nested_greet():\n",
    "        return \"it is greet\"\n",
    "    def welcome():\n",
    "        return \"welcome\"\n",
    "    print(nested_greet())\n",
    "    print(welcome())\n",
    "    print(\"end of function hi\")\n",
    "\n",
    "hi_with_nested_func()\n",
    "# nested_greet() error here"
   ]
  },
  {
   "cell_type": "code",
   "execution_count": 13,
   "metadata": {},
   "outputs": [
    {
     "name": "stdout",
     "output_type": "stream",
     "text": [
      "start return func\n",
      "end of func\n",
      "hi return\n"
     ]
    }
   ],
   "source": [
    "def hi_return_func(name=\"world\"):\n",
    "    print(\"start return func\")\n",
    "    def hi_nested():\n",
    "        return \"hi %s\"%name\n",
    "    hi_nested()\n",
    "    print(\"end of func\")\n",
    "    return hi_nested\n",
    "\n",
    "a = hi_return_func(\"return\")\n",
    "print(a())"
   ]
  },
  {
   "cell_type": "code",
   "execution_count": 15,
   "metadata": {},
   "outputs": [
    {
     "name": "stdout",
     "output_type": "stream",
     "text": [
      "before doing something\n",
      "hi\n"
     ]
    }
   ],
   "source": [
    "def doSomeBefore(func):\n",
    "    print(\"before doing something\")\n",
    "    func()\n",
    "def hi():\n",
    "    print(\"hi\")\n",
    "doSomeBefore(hi)"
   ]
  },
  {
   "cell_type": "markdown",
   "metadata": {},
   "source": [
    "## Decorator Demo\n",
    "\n",
    "- Simulate decorator\n",
    "- Use @ as decorator\n",
    "- Use wraps"
   ]
  },
  {
   "cell_type": "code",
   "execution_count": 24,
   "metadata": {},
   "outputs": [
    {
     "name": "stdout",
     "output_type": "stream",
     "text": [
      "wait decoated function\n",
      "before\n",
      "wait decoated function\n",
      "after\n",
      "new_decorator\n",
      "before\n",
      "let's decorate\n",
      "after\n",
      "wrap_func\n"
     ]
    }
   ],
   "source": [
    "def new_decorator(a_func):\n",
    "    def wrap_func():\n",
    "        print(\"before\")\n",
    "        a_func()\n",
    "        print(\"after\")\n",
    "    return wrap_func\n",
    "\n",
    "def wait_decorated_func():\n",
    "    print(\"wait decoated function\")\n",
    "wait_decorated_func()\n",
    "docorated_it=new_decorator(wait_decorated_func)\n",
    "docorated_it()\n",
    "print(new_decorator.__name__) # it is new_decorator\n",
    "## decorate with @\n",
    "@new_decorator\n",
    "def let_decorate():\n",
    "    print(\"let's decorate\")\n",
    "let_decorate()\n",
    "print(let_decorate.__name__) ## itis wrap_func"
   ]
  },
  {
   "cell_type": "code",
   "execution_count": null,
   "metadata": {},
   "outputs": [],
   "source": []
  }
 ],
 "metadata": {
  "kernelspec": {
   "display_name": "Python 3",
   "language": "python",
   "name": "python3"
  },
  "language_info": {
   "codemirror_mode": {
    "name": "ipython",
    "version": 3
   },
   "file_extension": ".py",
   "mimetype": "text/x-python",
   "name": "python",
   "nbconvert_exporter": "python",
   "pygments_lexer": "ipython3",
   "version": "3.6.5"
  }
 },
 "nbformat": 4,
 "nbformat_minor": 2
}
