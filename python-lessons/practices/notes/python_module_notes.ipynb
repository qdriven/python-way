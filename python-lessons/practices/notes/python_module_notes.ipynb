{
 "cells": [
  {
   "cell_type": "markdown",
   "metadata": {},
   "source": [
    "# Python Modules\n",
    "\n",
    "- module can be considered as \"namespaces\" which category the relative funcs or objects into a container\n",
    "- python file which is executed directly with a special module name \"__main__\"\n",
    "- module could be imported and with alias name\n",
    "- Python Modules ecosystem\n",
    "  * build-in modules\n",
    "  * third party modules\n",
    "  * own modules"
   ]
  },
  {
   "cell_type": "code",
   "execution_count": 10,
   "metadata": {
    "collapsed": false
   },
   "outputs": [
    {
     "name": "stdout",
     "output_type": "stream",
     "text": [
      "<class 'module'>\n",
      "<module 'math' from '//anaconda/lib/python3.6/lib-dynload/math.cpython-36m-darwin.so'>\n",
      "0.9995258306054791\n",
      "0.7853981633974483\n"
     ]
    }
   ],
   "source": [
    "import math as m\n",
    "from math import * \n",
    "\n",
    "print(type(m))\n",
    "print(m)\n",
    "\n",
    "print(sin(1.54))\n",
    "print(radians(45))"
   ]
  },
  {
   "cell_type": "code",
   "execution_count": 13,
   "metadata": {
    "collapsed": false
   },
   "outputs": [
    {
     "name": "stdout",
     "output_type": "stream",
     "text": [
      "[<matplotlib.lines.Line2D object at 0x10e181358>]\n"
     ]
    }
   ],
   "source": [
    "import numpy as np\n",
    "import matplotlib.pyplot as plt\n",
    "print(plt.plot(10,20))"
   ]
  },
  {
   "cell_type": "markdown",
   "metadata": {
    "collapsed": true
   },
   "source": [
    "## Module Help \n",
    "\n",
    "documented in python source file"
   ]
  },
  {
   "cell_type": "code",
   "execution_count": null,
   "metadata": {
    "collapsed": false
   },
   "outputs": [],
   "source": [
    "import helps_demo\n",
    "print(help(helps_demo))"
   ]
  },
  {
   "cell_type": "markdown",
   "metadata": {
    "collapsed": true
   },
   "source": [
    "```python\n",
    "\"\"\"\n",
    "help example\n",
    "\"\"\"\n",
    "\n",
    "def fun1():\n",
    "    \"\"\"\n",
    "    this is func1\n",
    "    :return:  no return value\n",
    "    \"\"\"\n",
    "    print(\"this is fun1\")\n",
    "\n",
    "\n",
    "def func2():\n",
    "    \"\"\"\n",
    "    this is func2\n",
    "    :return: string,value is func2\n",
    "    \"\"\"\n",
    "    return \"func2\"\n",
    "```"
   ]
  }
 ],
 "metadata": {
  "kernelspec": {
   "display_name": "Python 3",
   "language": "python",
   "name": "python3"
  },
  "language_info": {
   "codemirror_mode": {
    "name": "ipython",
    "version": 3
   },
   "file_extension": ".py",
   "mimetype": "text/x-python",
   "name": "python",
   "nbconvert_exporter": "python",
   "pygments_lexer": "ipython3",
   "version": "3.6.0"
  }
 },
 "nbformat": 4,
 "nbformat_minor": 2
}
