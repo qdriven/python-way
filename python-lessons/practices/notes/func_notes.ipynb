{
 "cells": [
  {
   "cell_type": "markdown",
   "metadata": {},
   "source": [
    "## Python Function\n",
    "\n",
    "Function is :\n",
    "1. a instance of class function\n",
    "2. it is Callable"
   ]
  },
  {
   "cell_type": "code",
   "execution_count": 4,
   "metadata": {
    "collapsed": false
   },
   "outputs": [
    {
     "name": "stdout",
     "output_type": "stream",
     "text": [
      "<class 'function'>\n",
      "this is function\n",
      "True\n"
     ]
    }
   ],
   "source": [
    "from collections import Callable\n",
    "\n",
    "def myfun():\n",
    "    print(\"this is function\")\n",
    "    \n",
    "print(type(myfun))\n",
    "myfun()\n",
    "print(isinstance(myfun,Callable))"
   ]
  },
  {
   "cell_type": "markdown",
   "metadata": {},
   "source": [
    "## Args and Return Value of Function\n",
    "\n",
    "1. Args are input of a function\n",
    "   * defined arguments, and the argument could be any type\n",
    "   * optional arguments,argument with default value\n",
    "   * Arbitrary Number of Arguments,positional argument\n",
    "   * key,value type arguments,keyword argument\n",
    "   * error raised when the arguments are not matched\n",
    "2. Return value is output of a function,it all could be no return value\n",
    "   * No return value, the type is NoneType\n",
    "   * With Return value, the type is the type of the value(dynamic)\n",
    "   * Return value could be more than one value at a time,actually the  return value is still one, but the type is tuple"
   ]
  },
  {
   "cell_type": "code",
   "execution_count": 30,
   "metadata": {
    "collapsed": false
   },
   "outputs": [
    {
     "name": "stdout",
     "output_type": "stream",
     "text": [
      "arg1\n",
      "arg1\n",
      "<class 'NoneType'>\n",
      "arg1\n",
      "additional arguments:args2\n",
      "additional arguments:args4\n",
      "type=args3\n",
      "<class 'NoneType'>\n",
      "arg1\n",
      "additional arguments:args2\n",
      "additional arguments:args4\n",
      "type=args3\n",
      "<class 'NoneType'>\n",
      "message\n",
      "another message\n",
      "func_with_args() missing 1 required positional argument: 'arg1'\n",
      "[1, 2, 3]\n",
      "<class 'list'>\n",
      "<class 'dict'>\n",
      "(4, 3)\n",
      "<class 'tuple'>\n",
      "4 3\n",
      "4\n",
      "3\n"
     ]
    }
   ],
   "source": [
    "def func_with_args(arg1,*keys,**kwags):\n",
    "    print(arg1)\n",
    "    for key in keys:\n",
    "        print(\"additional arguments:\"+key)\n",
    "    for k,v in kwags.items():\n",
    "        print(\"{}={}\".format(k,v))\n",
    "\n",
    "def func_with_default(msg=\"message\"):\n",
    "    print(msg)\n",
    "    \n",
    "func_with_args(\"arg1\")\n",
    "print(type(func_with_args(\"arg1\")))\n",
    "print(type(func_with_args(\"arg1\",\"args2\",\"args4\",type=\"args3\")))\n",
    "print(type(func_with_args(\"arg1\",\"args2\",\"args4\",type=\"args3\")))\n",
    "func_with_default()\n",
    "func_with_default(msg=\"another message\")\n",
    "\n",
    "try:\n",
    "    func_with_args()\n",
    "except TypeError as e:\n",
    "    print(e)\n",
    "\n",
    "# try:\n",
    "#     # syntax error, can't run at all\n",
    "#     func_with_args(\"arg1\",positional=\"args2\",\"args4\",type=\"args3\")\n",
    "# except SyntaxError as e:\n",
    "#     print(e)\n",
    "    \n",
    "def func_with_return(args1):\n",
    "    return args1\n",
    "\n",
    "def sumprod(a,b):\n",
    "    return a+b,a*b\n",
    "\n",
    "print(func_with_return([1,2,3]))\n",
    "print(type(func_with_return([1,2,3])))\n",
    "print(type(func_with_return({})))\n",
    "\n",
    "print(sumprod(1,3))\n",
    "print(type(sumprod(1,3)))\n",
    "print(sumprod(1,3)[0],sumprod(1,3)[1])\n",
    "s,p = sumprod(1,3)\n",
    "print(s)\n",
    "print(p)"
   ]
  },
  {
   "cell_type": "markdown",
   "metadata": {},
   "source": [
    "## Func is assignable\n",
    "\n",
    "function is assignable, that mean, a variable could be a func"
   ]
  },
  {
   "cell_type": "code",
   "execution_count": 31,
   "metadata": {
    "collapsed": false
   },
   "outputs": [
    {
     "name": "stdout",
     "output_type": "stream",
     "text": [
      "assigned to x\n"
     ]
    }
   ],
   "source": [
    "def assignable_func(val):\n",
    "    print(\"assigned to \"+val)\n",
    "\n",
    "x = assignable_func\n",
    "x(\"x\")"
   ]
  },
  {
   "cell_type": "markdown",
   "metadata": {},
   "source": [
    "## Func Documentation\n",
    "\n",
    "documetnation is in codes in Python"
   ]
  },
  {
   "cell_type": "code",
   "execution_count": 33,
   "metadata": {
    "collapsed": false
   },
   "outputs": [
    {
     "name": "stdout",
     "output_type": "stream",
     "text": [
      "Help on function documented_func in module __main__:\n",
      "\n",
      "documented_func()\n",
      "    documented_func is a func to demo documetation/comments in python\n",
      "    Input: No Input\n",
      "    Output: documentations\n",
      "\n",
      "None\n",
      "Help on function documented_func in module __main__:\n",
      "\n",
      "documented_func()\n",
      "    documented_func is a func to demo documetation/comments in python\n",
      "    Input: No Input\n",
      "    Output: documentations\n",
      "\n",
      "None\n"
     ]
    }
   ],
   "source": [
    "def documented_func():\n",
    "    \"\"\"\n",
    "    documented_func is a func to demo documetation/comments in python\n",
    "    Input: No Input\n",
    "    Output: documentations\n",
    "    \"\"\"\n",
    "    return help(documented_func)\n",
    "\n",
    "print(documented_func())\n",
    "print(help(documented_func))"
   ]
  },
  {
   "cell_type": "code",
   "execution_count": null,
   "metadata": {
    "collapsed": true
   },
   "outputs": [],
   "source": []
  }
 ],
 "metadata": {
  "kernelspec": {
   "display_name": "Python 3",
   "language": "python",
   "name": "python3"
  },
  "language_info": {
   "codemirror_mode": {
    "name": "ipython",
    "version": 3
   },
   "file_extension": ".py",
   "mimetype": "text/x-python",
   "name": "python",
   "nbconvert_exporter": "python",
   "pygments_lexer": "ipython3",
   "version": "3.6.0"
  }
 },
 "nbformat": 4,
 "nbformat_minor": 2
}
