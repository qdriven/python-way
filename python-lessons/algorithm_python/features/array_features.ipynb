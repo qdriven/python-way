{
 "cells": [
  {
   "cell_type": "markdown",
   "metadata": {},
   "source": [
    "## Python Array \n",
    "\n",
    "- pop: pop last element\n",
    "- append: add element to array as last element\n",
    "- index: find the position of the given value in the array\n",
    "- remove: remove one\n",
    "- sort: sort\n",
    "- reverse: reverse the arrays"
   ]
  },
  {
   "cell_type": "code",
   "execution_count": 2,
   "metadata": {},
   "outputs": [
    {
     "name": "stdout",
     "output_type": "stream",
     "text": [
      "6\n"
     ]
    }
   ],
   "source": [
    "def test_array_pop():\n",
    "    ar = [2,3,5,6]\n",
    "    return ar.pop()\n",
    "\n",
    "result = test_array_pop()\n",
    "print(result)"
   ]
  },
  {
   "cell_type": "code",
   "execution_count": 10,
   "metadata": {},
   "outputs": [
    {
     "name": "stdout",
     "output_type": "stream",
     "text": [
      "[2, 3, 5, 6, 7]\n",
      "2\n",
      "7\n",
      "[2, 3, 5, 6]\n",
      "[6, 5, 3, 2]\n"
     ]
    }
   ],
   "source": [
    "def test_array_append():\n",
    "    ar = [2,3,5,6]\n",
    "    ar.append(7)\n",
    "    return ar\n",
    "result = test_array_append()\n",
    "print(result)\n",
    "print(result.index(5))\n",
    "print(result.pop())\n",
    "result.sort()\n",
    "print(result)\n",
    "result.reverse()\n",
    "print(result)"
   ]
  }
 ],
 "metadata": {
  "kernelspec": {
   "display_name": "Python 3",
   "language": "python",
   "name": "python3"
  },
  "language_info": {
   "codemirror_mode": {
    "name": "ipython",
    "version": 3
   },
   "file_extension": ".py",
   "mimetype": "text/x-python",
   "name": "python",
   "nbconvert_exporter": "python",
   "pygments_lexer": "ipython3",
   "version": "3.7.1"
  }
 },
 "nbformat": 4,
 "nbformat_minor": 2
}
